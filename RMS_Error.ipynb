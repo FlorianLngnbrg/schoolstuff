{
  "nbformat": 4,
  "nbformat_minor": 0,
  "metadata": {
    "colab": {
      "provenance": [],
      "authorship_tag": "ABX9TyPoYgqjNBxlPtC0g1QrkKUj",
      "include_colab_link": true
    },
    "kernelspec": {
      "name": "python3",
      "display_name": "Python 3"
    },
    "language_info": {
      "name": "python"
    }
  },
  "cells": [
    {
      "cell_type": "markdown",
      "metadata": {
        "id": "view-in-github",
        "colab_type": "text"
      },
      "source": [
        "<a href=\"https://colab.research.google.com/github/FlorianLngnbrg/schoolstuff/blob/main/RMS_Error.ipynb\" target=\"_parent\"><img src=\"https://colab.research.google.com/assets/colab-badge.svg\" alt=\"Open In Colab\"/></a>"
      ]
    },
    {
      "cell_type": "code",
      "execution_count": null,
      "metadata": {
        "colab": {
          "base_uri": "https://localhost:8080/"
        },
        "id": "pIJ9BlbawyPP",
        "outputId": "c6ede4d0-a2bd-44c9-e562-051304d264e8"
      },
      "outputs": [
        {
          "output_type": "stream",
          "name": "stdout",
          "text": [
            "D    | RMS-Error\n",
            "0.10 | 0.179986\n",
            "0.20 | 0.143231\n",
            "0.30 | 0.119272\n",
            "0.40 | 0.101880\n",
            "0.50 | 0.088350\n",
            "0.60 | 0.077266\n",
            "0.70 | 0.067821\n",
            "0.80 | 0.059530\n",
            "0.90 | 0.052097\n"
          ]
        }
      ],
      "source": [
        "import numpy as np\n",
        "\n",
        "class FDM:\n",
        "    def __init__(self, m, D, k, y0, v0, time):\n",
        "        self.m = m\n",
        "        self.D = D\n",
        "        self.k = k\n",
        "        self.y0 = y0\n",
        "        self.v0 = v0\n",
        "        self.time = time\n",
        "\n",
        "    def exact_func(self, x):\n",
        "        C_1 = self.y0\n",
        "        C_2 = (self.v0 + (self.D/(2*self.m))*self.y0) / np.sqrt((4*self.m*self.k - self.D**2) / (4*self.m**2))\n",
        "        return np.exp((-self.D)/(2*self.m)*x) * (C_1*np.cos(np.sqrt((4*self.m*self.k-self.D**2)/(4*self.m**2))*x) + C_2*np.sin(np.sqrt((4*self.m*self.k-self.D**2)/(4*self.m**2))*x))\n",
        "\n",
        "    def calculate_fdm(self, dt):\n",
        "        knoten = int(self.time / dt)\n",
        "        t_values = [i * dt for i in range(knoten + 1)]\n",
        "        y_values = [self.y0]\n",
        "\n",
        "        v_i = self.v0\n",
        "        y_i = self.y0\n",
        "\n",
        "        for i in range(1, knoten + 1):\n",
        "            v_old = v_i\n",
        "            y_old = y_i\n",
        "\n",
        "            v_i = v_old - dt * ((self.k / self.m) * v_old + (self.D / self.m) * y_old)\n",
        "            y_i = y_old + dt * v_i\n",
        "\n",
        "            y_values.append(y_i)\n",
        "\n",
        "        return t_values, y_values\n",
        "\n",
        "    def calculate_rms_error(self, dt):\n",
        "        t_values, y_values = self.calculate_fdm(dt)\n",
        "        x_values_exact = np.linspace(0, self.time, len(t_values))\n",
        "        y_values_exact = self.exact_func(x_values_exact)\n",
        "        rms_error = np.sqrt(np.mean((np.array(y_values) - np.array(y_values_exact))**2))\n",
        "        return rms_error\n",
        "\n",
        "class Main:\n",
        "    def run(self):\n",
        "        # Grundwerte\n",
        "        m = 0.4\n",
        "        k = 2\n",
        "        y0 = 0.2\n",
        "        v0 = 0\n",
        "        time = 10\n",
        "        dt = 0.1  # Konstantes dt\n",
        "\n",
        "        # D-Variation\n",
        "        D_values = [0.1, 0.2, 0.3, 0.4, 0.5, 0.6, 0.7, 0.8, 0.9]\n",
        "\n",
        "        print(\"D    | RMS-Error\")\n",
        "        for D in D_values:\n",
        "            fdm = FDM(m, D, k, y0, v0, time)\n",
        "            rms_error = fdm.calculate_rms_error(dt)\n",
        "            print(f\"{D:0.2f} | {rms_error:0.6f}\")\n",
        "\n",
        "if __name__ == \"__main__\":\n",
        "    main = Main()\n",
        "    main.run()\n"
      ]
    }
  ]
}